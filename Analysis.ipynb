{
 "cells": [
  {
   "cell_type": "code",
   "execution_count": 1,
   "metadata": {},
   "outputs": [],
   "source": [
    "import pandas as pd\n",
    "import numpy as np\n",
    "import matplotlib.pyplot as plt\n",
    "import seaborn as sns\n",
    "\n",
    "sns.set_style('whitegrid')\n",
    "\n",
    "%matplotlib inline\n",
    "%config InlineBackend.figure_format = 'retina'\n",
    "\n",
    "pd.set_option('display.max_columns', 500)"
   ]
  },
  {
   "cell_type": "code",
   "execution_count": 2,
   "metadata": {},
   "outputs": [],
   "source": [
    "# csv_file = '311_Service_Requests_from_2010_to_Present.csv'"
   ]
  },
  {
   "cell_type": "code",
   "execution_count": 3,
   "metadata": {},
   "outputs": [],
   "source": [
    "# iter_csv = pd.read_csv(csv_file, iterator=True, chunksize=1000, parse_dates=['Created Date'])\n",
    "# df = pd.concat([chunk[chunk['Created Date'].dt.year == 2017] for chunk in iter_csv])\n",
    "# df.to_csv('2017_data.csv')"
   ]
  },
  {
   "cell_type": "code",
   "execution_count": 4,
   "metadata": {},
   "outputs": [],
   "source": [
    "# df.shape"
   ]
  },
  {
   "cell_type": "code",
   "execution_count": 5,
   "metadata": {},
   "outputs": [
    {
     "name": "stderr",
     "output_type": "stream",
     "text": [
      "/Users/sean/anaconda3/lib/python3.6/site-packages/IPython/core/interactiveshell.py:2785: DtypeWarning: Columns (9,18,32,33,34,35,36,37,38) have mixed types. Specify dtype option on import or set low_memory=False.\n",
      "  interactivity=interactivity, compiler=compiler, result=result)\n"
     ]
    }
   ],
   "source": [
    "df = pd.read_csv('2017_data.csv')"
   ]
  },
  {
   "cell_type": "code",
   "execution_count": 6,
   "metadata": {},
   "outputs": [
    {
     "data": {
      "text/plain": [
       "2445422"
      ]
     },
     "execution_count": 6,
     "metadata": {},
     "output_type": "execute_result"
    }
   ],
   "source": [
    "df.shape[0]"
   ]
  },
  {
   "cell_type": "code",
   "execution_count": 7,
   "metadata": {},
   "outputs": [
    {
     "data": {
      "text/plain": [
       "Index(['Unnamed: 0', 'Unique Key', 'Created Date', 'Closed Date', 'Agency',\n",
       "       'Agency Name', 'Complaint Type', 'Descriptor', 'Location Type',\n",
       "       'Incident Zip', 'Incident Address', 'Street Name', 'Cross Street 1',\n",
       "       'Cross Street 2', 'Intersection Street 1', 'Intersection Street 2',\n",
       "       'Address Type', 'City', 'Landmark', 'Facility Type', 'Status',\n",
       "       'Due Date', 'Resolution Description', 'Resolution Action Updated Date',\n",
       "       'Community Board', 'BBL', 'Borough', 'X Coordinate (State Plane)',\n",
       "       'Y Coordinate (State Plane)', 'Open Data Channel Type',\n",
       "       'Park Facility Name', 'Park Borough', 'Vehicle Type',\n",
       "       'Taxi Company Borough', 'Taxi Pick Up Location', 'Bridge Highway Name',\n",
       "       'Bridge Highway Direction', 'Road Ramp', 'Bridge Highway Segment',\n",
       "       'Latitude', 'Longitude', 'Location'],\n",
       "      dtype='object')"
      ]
     },
     "execution_count": 7,
     "metadata": {},
     "output_type": "execute_result"
    }
   ],
   "source": [
    "df.columns"
   ]
  },
  {
   "cell_type": "code",
   "execution_count": 8,
   "metadata": {},
   "outputs": [
    {
     "data": {
      "text/html": [
       "<div>\n",
       "<style scoped>\n",
       "    .dataframe tbody tr th:only-of-type {\n",
       "        vertical-align: middle;\n",
       "    }\n",
       "\n",
       "    .dataframe tbody tr th {\n",
       "        vertical-align: top;\n",
       "    }\n",
       "\n",
       "    .dataframe thead th {\n",
       "        text-align: right;\n",
       "    }\n",
       "</style>\n",
       "<table border=\"1\" class=\"dataframe\">\n",
       "  <thead>\n",
       "    <tr style=\"text-align: right;\">\n",
       "      <th></th>\n",
       "      <th>Unnamed: 0</th>\n",
       "      <th>Unique Key</th>\n",
       "      <th>Created Date</th>\n",
       "      <th>Closed Date</th>\n",
       "      <th>Agency</th>\n",
       "      <th>Agency Name</th>\n",
       "      <th>Complaint Type</th>\n",
       "      <th>Descriptor</th>\n",
       "      <th>Location Type</th>\n",
       "      <th>Incident Zip</th>\n",
       "      <th>Incident Address</th>\n",
       "      <th>Street Name</th>\n",
       "      <th>Cross Street 1</th>\n",
       "      <th>Cross Street 2</th>\n",
       "      <th>Intersection Street 1</th>\n",
       "      <th>Intersection Street 2</th>\n",
       "      <th>Address Type</th>\n",
       "      <th>City</th>\n",
       "      <th>Landmark</th>\n",
       "      <th>Facility Type</th>\n",
       "      <th>Status</th>\n",
       "      <th>Due Date</th>\n",
       "      <th>Resolution Description</th>\n",
       "      <th>Resolution Action Updated Date</th>\n",
       "      <th>Community Board</th>\n",
       "      <th>BBL</th>\n",
       "      <th>Borough</th>\n",
       "      <th>X Coordinate (State Plane)</th>\n",
       "      <th>Y Coordinate (State Plane)</th>\n",
       "      <th>Open Data Channel Type</th>\n",
       "      <th>Park Facility Name</th>\n",
       "      <th>Park Borough</th>\n",
       "      <th>Vehicle Type</th>\n",
       "      <th>Taxi Company Borough</th>\n",
       "      <th>Taxi Pick Up Location</th>\n",
       "      <th>Bridge Highway Name</th>\n",
       "      <th>Bridge Highway Direction</th>\n",
       "      <th>Road Ramp</th>\n",
       "      <th>Bridge Highway Segment</th>\n",
       "      <th>Latitude</th>\n",
       "      <th>Longitude</th>\n",
       "      <th>Location</th>\n",
       "    </tr>\n",
       "  </thead>\n",
       "  <tbody>\n",
       "    <tr>\n",
       "      <th>0</th>\n",
       "      <td>3982410</td>\n",
       "      <td>34708823</td>\n",
       "      <td>2017-01-03 08:49:00</td>\n",
       "      <td>04/12/2017 12:00:00 PM</td>\n",
       "      <td>DSNY</td>\n",
       "      <td>Lot Cleaning</td>\n",
       "      <td>Vacant Lot</td>\n",
       "      <td>8 Request to Clean Vacant Lot</td>\n",
       "      <td>Lot</td>\n",
       "      <td>11238.0</td>\n",
       "      <td>NaN</td>\n",
       "      <td>NaN</td>\n",
       "      <td>NaN</td>\n",
       "      <td>NaN</td>\n",
       "      <td>PROSPECT PLACE</td>\n",
       "      <td>WASHINGTON AVENUE</td>\n",
       "      <td>INTERSECTION</td>\n",
       "      <td>BROOKLYN</td>\n",
       "      <td>NaN</td>\n",
       "      <td>NaN</td>\n",
       "      <td>Closed</td>\n",
       "      <td>NaN</td>\n",
       "      <td>The Department of Sanitation has investigated ...</td>\n",
       "      <td>04/12/2017 12:00:00 PM</td>\n",
       "      <td>08 BROOKLYN</td>\n",
       "      <td>NaN</td>\n",
       "      <td>BROOKLYN</td>\n",
       "      <td>994366.0</td>\n",
       "      <td>185763.0</td>\n",
       "      <td>PHONE</td>\n",
       "      <td>Unspecified</td>\n",
       "      <td>BROOKLYN</td>\n",
       "      <td>NaN</td>\n",
       "      <td>NaN</td>\n",
       "      <td>NaN</td>\n",
       "      <td>NaN</td>\n",
       "      <td>NaN</td>\n",
       "      <td>NaN</td>\n",
       "      <td>NaN</td>\n",
       "      <td>40.676548</td>\n",
       "      <td>-73.963530</td>\n",
       "      <td>(40.67654750057022, -73.96352995988079)</td>\n",
       "    </tr>\n",
       "    <tr>\n",
       "      <th>1</th>\n",
       "      <td>4148622</td>\n",
       "      <td>34912416</td>\n",
       "      <td>2017-01-03 09:12:00</td>\n",
       "      <td>02/02/2017 12:00:00 PM</td>\n",
       "      <td>DSNY</td>\n",
       "      <td>Lot Cleaning</td>\n",
       "      <td>Vacant Lot</td>\n",
       "      <td>8 Request to Clean Vacant Lot</td>\n",
       "      <td>Lot</td>\n",
       "      <td>11211.0</td>\n",
       "      <td>NaN</td>\n",
       "      <td>NaN</td>\n",
       "      <td>NaN</td>\n",
       "      <td>NaN</td>\n",
       "      <td>NORTH 8 STREET</td>\n",
       "      <td>DRIGGS AVENUE</td>\n",
       "      <td>INTERSECTION</td>\n",
       "      <td>BROOKLYN</td>\n",
       "      <td>NaN</td>\n",
       "      <td>NaN</td>\n",
       "      <td>Closed</td>\n",
       "      <td>NaN</td>\n",
       "      <td>The Department of Sanitation investigated this...</td>\n",
       "      <td>02/02/2017 12:00:00 PM</td>\n",
       "      <td>01 BROOKLYN</td>\n",
       "      <td>NaN</td>\n",
       "      <td>BROOKLYN</td>\n",
       "      <td>996490.0</td>\n",
       "      <td>200716.0</td>\n",
       "      <td>PHONE</td>\n",
       "      <td>Unspecified</td>\n",
       "      <td>BROOKLYN</td>\n",
       "      <td>NaN</td>\n",
       "      <td>NaN</td>\n",
       "      <td>NaN</td>\n",
       "      <td>NaN</td>\n",
       "      <td>NaN</td>\n",
       "      <td>NaN</td>\n",
       "      <td>NaN</td>\n",
       "      <td>40.717587</td>\n",
       "      <td>-73.955845</td>\n",
       "      <td>(40.71758731876742, -73.95584537725969)</td>\n",
       "    </tr>\n",
       "    <tr>\n",
       "      <th>2</th>\n",
       "      <td>4303431</td>\n",
       "      <td>35108046</td>\n",
       "      <td>2017-03-30 07:03:00</td>\n",
       "      <td>03/30/2017 12:00:00 PM</td>\n",
       "      <td>DSNY</td>\n",
       "      <td>Lot Cleaning</td>\n",
       "      <td>Vacant Lot</td>\n",
       "      <td>8 Request to Clean Vacant Lot</td>\n",
       "      <td>Lot</td>\n",
       "      <td>11211.0</td>\n",
       "      <td>156 HOPE STREET</td>\n",
       "      <td>HOPE STREET</td>\n",
       "      <td>KEAP STREET</td>\n",
       "      <td>BEND</td>\n",
       "      <td>NaN</td>\n",
       "      <td>NaN</td>\n",
       "      <td>ADDRESS</td>\n",
       "      <td>BROOKLYN</td>\n",
       "      <td>NaN</td>\n",
       "      <td>NaN</td>\n",
       "      <td>Closed</td>\n",
       "      <td>NaN</td>\n",
       "      <td>The Department of Sanitation has investigated ...</td>\n",
       "      <td>03/30/2017 12:00:00 PM</td>\n",
       "      <td>01 BROOKLYN</td>\n",
       "      <td>3.023870e+09</td>\n",
       "      <td>BROOKLYN</td>\n",
       "      <td>997496.0</td>\n",
       "      <td>198631.0</td>\n",
       "      <td>MOBILE</td>\n",
       "      <td>Unspecified</td>\n",
       "      <td>BROOKLYN</td>\n",
       "      <td>NaN</td>\n",
       "      <td>NaN</td>\n",
       "      <td>NaN</td>\n",
       "      <td>NaN</td>\n",
       "      <td>NaN</td>\n",
       "      <td>NaN</td>\n",
       "      <td>NaN</td>\n",
       "      <td>40.711863</td>\n",
       "      <td>-73.952220</td>\n",
       "      <td>(40.71186304379185, -73.9522204322487)</td>\n",
       "    </tr>\n",
       "    <tr>\n",
       "      <th>3</th>\n",
       "      <td>4309467</td>\n",
       "      <td>35117399</td>\n",
       "      <td>2017-02-21 10:49:00</td>\n",
       "      <td>04/19/2017 12:00:00 PM</td>\n",
       "      <td>DSNY</td>\n",
       "      <td>Lot Cleaning</td>\n",
       "      <td>Vacant Lot</td>\n",
       "      <td>8 Request to Clean Vacant Lot</td>\n",
       "      <td>Lot</td>\n",
       "      <td>10305.0</td>\n",
       "      <td>36 OLYMPIA BOULEVARD</td>\n",
       "      <td>OLYMPIA BOULEVARD</td>\n",
       "      <td>PIAVE AVENUE</td>\n",
       "      <td>BALFOUR STREET</td>\n",
       "      <td>NaN</td>\n",
       "      <td>NaN</td>\n",
       "      <td>ADDRESS</td>\n",
       "      <td>STATEN ISLAND</td>\n",
       "      <td>NaN</td>\n",
       "      <td>NaN</td>\n",
       "      <td>Closed</td>\n",
       "      <td>NaN</td>\n",
       "      <td>The Department of Sanitation cleaned the locat...</td>\n",
       "      <td>04/19/2017 12:00:00 PM</td>\n",
       "      <td>02 STATEN ISLAND</td>\n",
       "      <td>5.034010e+09</td>\n",
       "      <td>STATEN ISLAND</td>\n",
       "      <td>964947.0</td>\n",
       "      <td>155255.0</td>\n",
       "      <td>ONLINE</td>\n",
       "      <td>Unspecified</td>\n",
       "      <td>STATEN ISLAND</td>\n",
       "      <td>NaN</td>\n",
       "      <td>NaN</td>\n",
       "      <td>NaN</td>\n",
       "      <td>NaN</td>\n",
       "      <td>NaN</td>\n",
       "      <td>NaN</td>\n",
       "      <td>NaN</td>\n",
       "      <td>40.592794</td>\n",
       "      <td>-74.069504</td>\n",
       "      <td>(40.59279428994732, -74.0695035852305)</td>\n",
       "    </tr>\n",
       "    <tr>\n",
       "      <th>4</th>\n",
       "      <td>4312892</td>\n",
       "      <td>35123353</td>\n",
       "      <td>2017-02-06 11:47:00</td>\n",
       "      <td>03/10/2017 12:00:00 PM</td>\n",
       "      <td>DSNY</td>\n",
       "      <td>Lot Cleaning</td>\n",
       "      <td>Vacant Lot</td>\n",
       "      <td>8 Request to Clean Vacant Lot</td>\n",
       "      <td>Lot</td>\n",
       "      <td>11208.0</td>\n",
       "      <td>115 SHERIDAN AVENUE</td>\n",
       "      <td>SHERIDAN AVENUE</td>\n",
       "      <td>MC KINLEY AVENUE</td>\n",
       "      <td>LIBERTY AVENUE</td>\n",
       "      <td>NaN</td>\n",
       "      <td>NaN</td>\n",
       "      <td>ADDRESS</td>\n",
       "      <td>BROOKLYN</td>\n",
       "      <td>NaN</td>\n",
       "      <td>NaN</td>\n",
       "      <td>Closed</td>\n",
       "      <td>NaN</td>\n",
       "      <td>The Department of Sanitation has investigated ...</td>\n",
       "      <td>03/10/2017 12:00:00 PM</td>\n",
       "      <td>05 BROOKLYN</td>\n",
       "      <td>3.041820e+09</td>\n",
       "      <td>BROOKLYN</td>\n",
       "      <td>1021035.0</td>\n",
       "      <td>186952.0</td>\n",
       "      <td>ONLINE</td>\n",
       "      <td>Unspecified</td>\n",
       "      <td>BROOKLYN</td>\n",
       "      <td>NaN</td>\n",
       "      <td>NaN</td>\n",
       "      <td>NaN</td>\n",
       "      <td>NaN</td>\n",
       "      <td>NaN</td>\n",
       "      <td>NaN</td>\n",
       "      <td>NaN</td>\n",
       "      <td>40.679740</td>\n",
       "      <td>-73.867377</td>\n",
       "      <td>(40.67974038452862, -73.86737691477967)</td>\n",
       "    </tr>\n",
       "  </tbody>\n",
       "</table>\n",
       "</div>"
      ],
      "text/plain": [
       "   Unnamed: 0  Unique Key         Created Date             Closed Date Agency  \\\n",
       "0     3982410    34708823  2017-01-03 08:49:00  04/12/2017 12:00:00 PM   DSNY   \n",
       "1     4148622    34912416  2017-01-03 09:12:00  02/02/2017 12:00:00 PM   DSNY   \n",
       "2     4303431    35108046  2017-03-30 07:03:00  03/30/2017 12:00:00 PM   DSNY   \n",
       "3     4309467    35117399  2017-02-21 10:49:00  04/19/2017 12:00:00 PM   DSNY   \n",
       "4     4312892    35123353  2017-02-06 11:47:00  03/10/2017 12:00:00 PM   DSNY   \n",
       "\n",
       "    Agency Name Complaint Type                     Descriptor Location Type  \\\n",
       "0  Lot Cleaning     Vacant Lot  8 Request to Clean Vacant Lot           Lot   \n",
       "1  Lot Cleaning     Vacant Lot  8 Request to Clean Vacant Lot           Lot   \n",
       "2  Lot Cleaning     Vacant Lot  8 Request to Clean Vacant Lot           Lot   \n",
       "3  Lot Cleaning     Vacant Lot  8 Request to Clean Vacant Lot           Lot   \n",
       "4  Lot Cleaning     Vacant Lot  8 Request to Clean Vacant Lot           Lot   \n",
       "\n",
       "  Incident Zip      Incident Address        Street Name    Cross Street 1  \\\n",
       "0      11238.0                   NaN                NaN               NaN   \n",
       "1      11211.0                   NaN                NaN               NaN   \n",
       "2      11211.0       156 HOPE STREET        HOPE STREET       KEAP STREET   \n",
       "3      10305.0  36 OLYMPIA BOULEVARD  OLYMPIA BOULEVARD      PIAVE AVENUE   \n",
       "4      11208.0   115 SHERIDAN AVENUE    SHERIDAN AVENUE  MC KINLEY AVENUE   \n",
       "\n",
       "   Cross Street 2 Intersection Street 1 Intersection Street 2  Address Type  \\\n",
       "0             NaN        PROSPECT PLACE     WASHINGTON AVENUE  INTERSECTION   \n",
       "1             NaN        NORTH 8 STREET         DRIGGS AVENUE  INTERSECTION   \n",
       "2            BEND                   NaN                   NaN       ADDRESS   \n",
       "3  BALFOUR STREET                   NaN                   NaN       ADDRESS   \n",
       "4  LIBERTY AVENUE                   NaN                   NaN       ADDRESS   \n",
       "\n",
       "            City Landmark Facility Type  Status Due Date  \\\n",
       "0       BROOKLYN      NaN           NaN  Closed      NaN   \n",
       "1       BROOKLYN      NaN           NaN  Closed      NaN   \n",
       "2       BROOKLYN      NaN           NaN  Closed      NaN   \n",
       "3  STATEN ISLAND      NaN           NaN  Closed      NaN   \n",
       "4       BROOKLYN      NaN           NaN  Closed      NaN   \n",
       "\n",
       "                              Resolution Description  \\\n",
       "0  The Department of Sanitation has investigated ...   \n",
       "1  The Department of Sanitation investigated this...   \n",
       "2  The Department of Sanitation has investigated ...   \n",
       "3  The Department of Sanitation cleaned the locat...   \n",
       "4  The Department of Sanitation has investigated ...   \n",
       "\n",
       "  Resolution Action Updated Date   Community Board           BBL  \\\n",
       "0         04/12/2017 12:00:00 PM       08 BROOKLYN           NaN   \n",
       "1         02/02/2017 12:00:00 PM       01 BROOKLYN           NaN   \n",
       "2         03/30/2017 12:00:00 PM       01 BROOKLYN  3.023870e+09   \n",
       "3         04/19/2017 12:00:00 PM  02 STATEN ISLAND  5.034010e+09   \n",
       "4         03/10/2017 12:00:00 PM       05 BROOKLYN  3.041820e+09   \n",
       "\n",
       "         Borough  X Coordinate (State Plane)  Y Coordinate (State Plane)  \\\n",
       "0       BROOKLYN                    994366.0                    185763.0   \n",
       "1       BROOKLYN                    996490.0                    200716.0   \n",
       "2       BROOKLYN                    997496.0                    198631.0   \n",
       "3  STATEN ISLAND                    964947.0                    155255.0   \n",
       "4       BROOKLYN                   1021035.0                    186952.0   \n",
       "\n",
       "  Open Data Channel Type Park Facility Name   Park Borough Vehicle Type  \\\n",
       "0                  PHONE        Unspecified       BROOKLYN          NaN   \n",
       "1                  PHONE        Unspecified       BROOKLYN          NaN   \n",
       "2                 MOBILE        Unspecified       BROOKLYN          NaN   \n",
       "3                 ONLINE        Unspecified  STATEN ISLAND          NaN   \n",
       "4                 ONLINE        Unspecified       BROOKLYN          NaN   \n",
       "\n",
       "  Taxi Company Borough Taxi Pick Up Location Bridge Highway Name  \\\n",
       "0                  NaN                   NaN                 NaN   \n",
       "1                  NaN                   NaN                 NaN   \n",
       "2                  NaN                   NaN                 NaN   \n",
       "3                  NaN                   NaN                 NaN   \n",
       "4                  NaN                   NaN                 NaN   \n",
       "\n",
       "  Bridge Highway Direction Road Ramp Bridge Highway Segment   Latitude  \\\n",
       "0                      NaN       NaN                    NaN  40.676548   \n",
       "1                      NaN       NaN                    NaN  40.717587   \n",
       "2                      NaN       NaN                    NaN  40.711863   \n",
       "3                      NaN       NaN                    NaN  40.592794   \n",
       "4                      NaN       NaN                    NaN  40.679740   \n",
       "\n",
       "   Longitude                                 Location  \n",
       "0 -73.963530  (40.67654750057022, -73.96352995988079)  \n",
       "1 -73.955845  (40.71758731876742, -73.95584537725969)  \n",
       "2 -73.952220   (40.71186304379185, -73.9522204322487)  \n",
       "3 -74.069504   (40.59279428994732, -74.0695035852305)  \n",
       "4 -73.867377  (40.67974038452862, -73.86737691477967)  "
      ]
     },
     "execution_count": 8,
     "metadata": {},
     "output_type": "execute_result"
    }
   ],
   "source": [
    "df.head()"
   ]
  },
  {
   "cell_type": "code",
   "execution_count": 9,
   "metadata": {},
   "outputs": [],
   "source": [
    "# df.isnull().sum()"
   ]
  },
  {
   "cell_type": "code",
   "execution_count": 10,
   "metadata": {},
   "outputs": [],
   "source": [
    "# remove whitespaces and capitalization from column names\n",
    "df.columns = [col.lower().replace(' ', '_') for col in df.columns]"
   ]
  },
  {
   "cell_type": "code",
   "execution_count": 11,
   "metadata": {},
   "outputs": [],
   "source": [
    "# df.columns"
   ]
  },
  {
   "cell_type": "code",
   "execution_count": 12,
   "metadata": {},
   "outputs": [],
   "source": [
    "# df.isnull().sum() > 2400000"
   ]
  },
  {
   "cell_type": "code",
   "execution_count": 13,
   "metadata": {},
   "outputs": [],
   "source": [
    "df.drop(['unnamed:_0', 'unique_key', 'created_date', 'closed_date', 'open_data_channel_type', 'resolution_description', 'latitude', 'longitude',\n",
    "         'landmark', \n",
    "         'vehicle_type', \n",
    "         'taxi_company_borough', \n",
    "         'taxi_pick_up_location', \n",
    "         'bridge_highway_name', \n",
    "         'bridge_highway_direction', \n",
    "         'road_ramp', \n",
    "         'bridge_highway_segment'], axis=1, inplace=True)"
   ]
  },
  {
   "cell_type": "code",
   "execution_count": 14,
   "metadata": {},
   "outputs": [
    {
     "name": "stdout",
     "output_type": "stream",
     "text": [
      "<class 'pandas.core.frame.DataFrame'>\n",
      "RangeIndex: 2445422 entries, 0 to 2445421\n",
      "Data columns (total 26 columns):\n",
      "agency                            object\n",
      "agency_name                       object\n",
      "complaint_type                    object\n",
      "descriptor                        object\n",
      "location_type                     object\n",
      "incident_zip                      object\n",
      "incident_address                  object\n",
      "street_name                       object\n",
      "cross_street_1                    object\n",
      "cross_street_2                    object\n",
      "intersection_street_1             object\n",
      "intersection_street_2             object\n",
      "address_type                      object\n",
      "city                              object\n",
      "facility_type                     object\n",
      "status                            object\n",
      "due_date                          object\n",
      "resolution_action_updated_date    object\n",
      "community_board                   object\n",
      "bbl                               float64\n",
      "borough                           object\n",
      "x_coordinate_(state_plane)        float64\n",
      "y_coordinate_(state_plane)        float64\n",
      "park_facility_name                object\n",
      "park_borough                      object\n",
      "location                          object\n",
      "dtypes: float64(3), object(23)\n",
      "memory usage: 485.1+ MB\n"
     ]
    }
   ],
   "source": [
    "df.info()"
   ]
  },
  {
   "cell_type": "code",
   "execution_count": 15,
   "metadata": {},
   "outputs": [],
   "source": [
    "# process the 5000 lines as files and don't keep them in memory?\n",
    "# get borough by clusting latitude and longitude data?\n",
    "# can cross_street and intersection_street be combined? As in are the values NaN only in one column at a time?\n",
    "# what is bbl?\n",
    "# park facility name is frequently unspecified\n",
    "# lat long and location are probably all null in the same place -- use only location to further reduce memory consumption\n",
    "# plot all locations looking for outliers"
   ]
  },
  {
   "cell_type": "code",
   "execution_count": 16,
   "metadata": {},
   "outputs": [],
   "source": [
    "df['borough'] = df['borough'].str.lower()\n",
    "df['location'] = df['location'].str.strip('()')\n",
    "df['location'] = df['location'].str.replace(' ', '')\n",
    "df['complaint_type'] = df['complaint_type'].str.lower()\n",
    "df.rename(columns={'incident_zip': 'zip'}, inplace=True)\n",
    "df['zip'] = pd.to_numeric(df['zip'], errors='coerce')\n",
    "df['zip'].fillna(0, inplace=True)\n",
    "df['zip'] = df['zip'].astype(int)"
   ]
  },
  {
   "cell_type": "code",
   "execution_count": 17,
   "metadata": {},
   "outputs": [
    {
     "data": {
      "text/plain": [
       "brooklyn       28289\n",
       "queens            91\n",
       "unspecified       14\n",
       "Name: borough, dtype: int64"
      ]
     },
     "execution_count": 17,
     "metadata": {},
     "output_type": "execute_result"
    }
   ],
   "source": [
    "df[df['zip'] == 11208]['borough'].value_counts()"
   ]
  },
  {
   "cell_type": "code",
   "execution_count": 18,
   "metadata": {},
   "outputs": [],
   "source": [
    "# # borough_dict = {}\n",
    "# for zip_code in [11368, 11226, 11373, 11220, 11385, 10467, 10025, 11208, 11236, 11207]:\n",
    "#     print('{}: {}'.format(zip_code, df[df['zip'] == zip_code]['borough'].unique()))"
   ]
  },
  {
   "cell_type": "code",
   "execution_count": 19,
   "metadata": {},
   "outputs": [
    {
     "name": "stdout",
     "output_type": "stream",
     "text": [
      "11368: ['queens' 'unspecified']\n",
      "11226: ['brooklyn' 'unspecified' 'queens']\n",
      "11373: ['queens' 'unspecified']\n",
      "11220: ['brooklyn' 'unspecified']\n",
      "11385: ['queens' 'brooklyn' 'unspecified' 'manhattan']\n",
      "10467: ['bronx' 'unspecified']\n",
      "10025: ['manhattan' 'unspecified']\n",
      "11208: ['brooklyn' 'queens' 'unspecified']\n",
      "11236: ['brooklyn' 'unspecified']\n",
      "11207: ['brooklyn' 'unspecified']\n"
     ]
    }
   ],
   "source": [
    "# borough_dict = {}\n",
    "for zip_code in [11368, 11226, 11373, 11220, 11385, 10467, 10025, 11208, 11236, 11207]:\n",
    "    print('{}: {}'.format(zip_code, df[df['zip'] == zip_code]['borough'].unique()))"
   ]
  },
  {
   "cell_type": "code",
   "execution_count": 20,
   "metadata": {},
   "outputs": [],
   "source": [
    "gby = df[['zip', 'borough']].groupby('zip').agg({'borough': pd.Series.nunique})"
   ]
  },
  {
   "cell_type": "code",
   "execution_count": 21,
   "metadata": {},
   "outputs": [
    {
     "name": "stdout",
     "output_type": "stream",
     "text": [
      "184\n"
     ]
    }
   ],
   "source": [
    "gby = df[['zip', 'borough']].groupby('zip').agg({'borough': pd.Series.nunique})\n",
    "# 184 zip codes have at least 2 boroughs\n",
    "zips_multiple_boroughs = gby[gby['borough'] != 1].index\n",
    "print(len(zips_multiple_boroughs))"
   ]
  },
  {
   "cell_type": "code",
   "execution_count": 22,
   "metadata": {},
   "outputs": [
    {
     "name": "stdout",
     "output_type": "stream",
     "text": [
      "unspecified has the most entries for zip 0\n",
      "unspecified has the most entries for zip 10580\n",
      "unspecified has the most entries for zip 10710\n",
      "unspecified has the most entries for zip 11030\n",
      "unspecified has the most entries for zip 11096\n",
      "unspecified has the most entries for zip 11559\n",
      "unspecified has the most entries for zip 11563\n",
      "unspecified has the most entries for zip 11581\n"
     ]
    }
   ],
   "source": [
    "# rewrite with itertuples?\n",
    "for z in zips_multiple_boroughs:\n",
    "    unspecified_zips = []\n",
    "    d = pd.Series.to_dict(df[df['zip'] == z]['borough'].value_counts())\n",
    "    max_count = 0\n",
    "    for k in d.keys():\n",
    "        if d[k] > max_count:\n",
    "            max_count = d[k]\n",
    "            true_borough = k\n",
    "    if true_borough == 'unspecified':\n",
    "        print('unspecified has the most entries for zip {}'.format(z))\n",
    "        unspecified_zips.append(z)\n",
    "    else:\n",
    "        df.loc[(df['zip'] == z), 'borough'] = true_borough"
   ]
  },
  {
   "cell_type": "code",
   "execution_count": 23,
   "metadata": {},
   "outputs": [
    {
     "name": "stdout",
     "output_type": "stream",
     "text": [
      "zip codes with multiple boroughs:             8\n",
      "number of lines that include these zip codes: 102269\n"
     ]
    }
   ],
   "source": [
    "# now only 7 zip codes or 38 incidents have at least 2 boroughs\n",
    "gby = df[['zip', 'borough']].groupby('zip').agg({'borough': pd.Series.nunique})\n",
    "zips_multiple_boroughs = gby[gby['borough'] != 1].index\n",
    "print('zip codes with multiple boroughs:             {}'.format(len(zips_multiple_boroughs)))\n",
    "print('number of lines that include these zip codes: {}'.format(df[df['zip'].isin(zips_multiple_boroughs)].shape[0]))"
   ]
  },
  {
   "cell_type": "code",
   "execution_count": 24,
   "metadata": {},
   "outputs": [],
   "source": [
    "population = pd.read_csv('2010_Census_Population_By_Zipcode.csv', names=['zip', 'population'], skiprows=1)"
   ]
  },
  {
   "cell_type": "code",
   "execution_count": 25,
   "metadata": {},
   "outputs": [
    {
     "name": "stdout",
     "output_type": "stream",
     "text": [
      "Null Zip Codes:                102231\n",
      "Null Zip Codes (with borough): 65121\n"
     ]
    }
   ],
   "source": [
    "# 65,000 entries with boroughs and without zip codes\n",
    "# mask these entries to the most populous zip code for the matching borough\n",
    "print('Null Zip Codes:                {}'.format(df[df['zip'] == 0].shape[0]))\n",
    "print('Null Zip Codes (with borough): {}'.format(df[(df['zip'] == 0) & (df['borough'] != 'unspecified')].shape[0]))"
   ]
  },
  {
   "cell_type": "code",
   "execution_count": 26,
   "metadata": {},
   "outputs": [],
   "source": [
    "df_z = df[['borough', 'zip', 'agency']].groupby(['borough', 'zip']) \\\n",
    "                                       .count() \\\n",
    "                                       .reset_index() \\\n",
    "                                       .sort_values(['borough', 'agency'], ascending=False) \\\n",
    "                                       .set_index(['borough', 'zip'])"
   ]
  },
  {
   "cell_type": "code",
   "execution_count": 27,
   "metadata": {},
   "outputs": [],
   "source": [
    "# setting most populous zip code for each borough to a variable\n",
    "brx = df_z.xs('bronx').head(1).index[0]\n",
    "bk  = df_z.xs('brooklyn').head(1).index[0]\n",
    "mhn = df_z.xs('manhattan').head(1).index[0]\n",
    "qns = df_z.xs('queens').head(1).index[0]\n",
    "sid = df_z.xs('staten island').head(1).index[0]\n",
    "\n",
    "# mask these variables to null zip values where the borough is known\n",
    "df.loc[(df['zip'] == 0) & (df['borough'] == 'bronx'), 'zip'] = brx\n",
    "df.loc[(df['zip'] == 0) & (df['borough'] == 'brooklyn'), 'zip'] = bk\n",
    "df.loc[(df['zip'] == 0) & (df['borough'] == 'manhattan'), 'zip'] = mhn\n",
    "df.loc[(df['zip'] == 0) & (df['borough'] == 'queens'), 'zip'] = qns\n",
    "df.loc[(df['zip'] == 0) & (df['borough'] == 'staten island'), 'zip'] = sid\n",
    "\n",
    "del df_z"
   ]
  },
  {
   "cell_type": "code",
   "execution_count": 28,
   "metadata": {},
   "outputs": [
    {
     "name": "stdout",
     "output_type": "stream",
     "text": [
      "Null Zip Codes:                   37110\n",
      "Null Zip Codes (with borough):    0\n",
      "Null Zip Codes (without borough): 37110\n"
     ]
    }
   ],
   "source": [
    "# 65,000 null zip codes associated with a borough -- will be used to fill population\n",
    "print('Null Zip Codes:                   {}'.format(df[df['zip'] == 0].shape[0]))\n",
    "print('Null Zip Codes (with borough):    {}'.format(df[(df['zip'] == 0) & (df['borough'] != 'unspecified')].shape[0]))\n",
    "print('Null Zip Codes (without borough): {}'.format(df[(df['zip'] == 0) & (df['borough'] == 'unspecified')].shape[0]))"
   ]
  },
  {
   "cell_type": "code",
   "execution_count": 29,
   "metadata": {},
   "outputs": [],
   "source": [
    "# unspecified_zips = df[(df['zip'] != 0) & (df['borough'] == 'unspecified')]['zip'].unique()\n",
    "# unspecified_zips = pd.DataFrame(unspecified_zips, columns=['zip'])\n",
    "# # unspecified_zips['borough'] = 'unknown'\n",
    "# unspecified_zips.head()\n",
    "# unspecified_zips.merge(df[df['borough'] != 'unspecified'][['zip', 'borough']], \n",
    "#                        how='outer', \n",
    "#                        on='zip')"
   ]
  },
  {
   "cell_type": "code",
   "execution_count": 30,
   "metadata": {},
   "outputs": [
    {
     "data": {
      "text/html": [
       "<div>\n",
       "<style scoped>\n",
       "    .dataframe tbody tr th:only-of-type {\n",
       "        vertical-align: middle;\n",
       "    }\n",
       "\n",
       "    .dataframe tbody tr th {\n",
       "        vertical-align: top;\n",
       "    }\n",
       "\n",
       "    .dataframe thead th {\n",
       "        text-align: right;\n",
       "    }\n",
       "</style>\n",
       "<table border=\"1\" class=\"dataframe\">\n",
       "  <thead>\n",
       "    <tr style=\"text-align: right;\">\n",
       "      <th></th>\n",
       "      <th>zip</th>\n",
       "      <th>population</th>\n",
       "    </tr>\n",
       "  </thead>\n",
       "  <tbody>\n",
       "    <tr>\n",
       "      <th>0</th>\n",
       "      <td>1001</td>\n",
       "      <td>16769</td>\n",
       "    </tr>\n",
       "    <tr>\n",
       "      <th>1</th>\n",
       "      <td>1002</td>\n",
       "      <td>29049</td>\n",
       "    </tr>\n",
       "    <tr>\n",
       "      <th>2</th>\n",
       "      <td>1003</td>\n",
       "      <td>10372</td>\n",
       "    </tr>\n",
       "    <tr>\n",
       "      <th>3</th>\n",
       "      <td>1005</td>\n",
       "      <td>5079</td>\n",
       "    </tr>\n",
       "    <tr>\n",
       "      <th>4</th>\n",
       "      <td>1007</td>\n",
       "      <td>14649</td>\n",
       "    </tr>\n",
       "  </tbody>\n",
       "</table>\n",
       "</div>"
      ],
      "text/plain": [
       "    zip  population\n",
       "0  1001       16769\n",
       "1  1002       29049\n",
       "2  1003       10372\n",
       "3  1005        5079\n",
       "4  1007       14649"
      ]
     },
     "execution_count": 30,
     "metadata": {},
     "output_type": "execute_result"
    }
   ],
   "source": [
    "population.head()"
   ]
  },
  {
   "cell_type": "code",
   "execution_count": 31,
   "metadata": {},
   "outputs": [
    {
     "name": "stdout",
     "output_type": "stream",
     "text": [
      "<class 'pandas.core.frame.DataFrame'>\n",
      "RangeIndex: 33092 entries, 0 to 33091\n",
      "Data columns (total 2 columns):\n",
      "zip           33092 non-null int64\n",
      "population    33092 non-null int64\n",
      "dtypes: int64(2)\n",
      "memory usage: 517.1 KB\n"
     ]
    }
   ],
   "source": [
    "population.info()"
   ]
  },
  {
   "cell_type": "code",
   "execution_count": 32,
   "metadata": {},
   "outputs": [
    {
     "data": {
      "text/plain": [
       "brooklyn         761450\n",
       "queens           587119\n",
       "manhattan        478700\n",
       "bronx            451007\n",
       "staten island    129068\n",
       "unspecified       38078\n",
       "Name: borough, dtype: int64"
      ]
     },
     "execution_count": 32,
     "metadata": {},
     "output_type": "execute_result"
    }
   ],
   "source": [
    "df['borough'].value_counts()"
   ]
  },
  {
   "cell_type": "code",
   "execution_count": 33,
   "metadata": {},
   "outputs": [],
   "source": [
    "# print(df[(df['borough'] == 'unspecified') & (df['latitude'].isnull())].shape[0])\n",
    "# print(df[(df['borough'] == 'unspecified') & (df['latitude'].isnull())]['longitude'].shape[0])"
   ]
  },
  {
   "cell_type": "code",
   "execution_count": 34,
   "metadata": {},
   "outputs": [],
   "source": [
    "# df[df['borough'] == 'unspecified']['incident_address'].isnull().sum()"
   ]
  },
  {
   "cell_type": "code",
   "execution_count": 35,
   "metadata": {},
   "outputs": [],
   "source": [
    "# df['location'][0]"
   ]
  },
  {
   "cell_type": "code",
   "execution_count": 36,
   "metadata": {},
   "outputs": [],
   "source": [
    "# def reverse_geocode(latlng):\n",
    "#     result = {}\n",
    "#     url = 'https://maps.googleapis.com/maps/api/geocode/json?latlng={}'\n",
    "#     request = url.format(latlng)\n",
    "#     data = requests.get(request).json()\n",
    "#     if len(data['results']) > 0:\n",
    "#         result = data['results'][0]\n",
    "#     return result"
   ]
  },
  {
   "cell_type": "code",
   "execution_count": 37,
   "metadata": {},
   "outputs": [],
   "source": [
    "# df['geocode_data'] = 0"
   ]
  },
  {
   "cell_type": "code",
   "execution_count": 38,
   "metadata": {},
   "outputs": [],
   "source": [
    "# .map(reverse_geocode)"
   ]
  },
  {
   "cell_type": "code",
   "execution_count": 39,
   "metadata": {},
   "outputs": [],
   "source": [
    "# df[df['borough'] == 'unspecified']['geocode_data'] = df['location'].map(reverse_geocode)"
   ]
  },
  {
   "cell_type": "code",
   "execution_count": 40,
   "metadata": {},
   "outputs": [],
   "source": [
    "df_bc = df[['borough', 'complaint_type', 'agency']].groupby(by=['borough', 'complaint_type']) \\\n",
    "                                                  .count() \\\n",
    "                                                  .reset_index() \\\n",
    "                                                  .sort_values(['borough', 'agency'], ascending=False) \\\n",
    "                                                  .set_index(['borough', 'complaint_type'])\n",
    "\n",
    "df_bc.rename(columns={'agency':'count'}, inplace=True)"
   ]
  },
  {
   "cell_type": "code",
   "execution_count": 41,
   "metadata": {},
   "outputs": [],
   "source": [
    "df = df.merge(population, how='left', on='zip')"
   ]
  },
  {
   "cell_type": "code",
   "execution_count": 42,
   "metadata": {},
   "outputs": [
    {
     "data": {
      "text/plain": [
       "street condition                 93265\n",
       "street light condition           84195\n",
       "unsanitary condition             79282\n",
       "sanitation condition             38937\n",
       "traffic signal condition         36178\n",
       "dirty conditions                 35887\n",
       "sidewalk condition               29138\n",
       "root/sewer/sidewalk condition     8672\n",
       "curb condition                    6074\n",
       "highway condition                 3347\n",
       "unsanitary pigeon condition        628\n",
       "bridge condition                   350\n",
       "bike rack condition                105\n",
       "tunnel condition                    19\n",
       "building condition                   3\n",
       "Name: complaint_type, dtype: int64"
      ]
     },
     "execution_count": 42,
     "metadata": {},
     "output_type": "execute_result"
    }
   ],
   "source": [
    "df[df['complaint_type'].str.contains('condition')]['complaint_type'].value_counts()"
   ]
  },
  {
   "cell_type": "code",
   "execution_count": 43,
   "metadata": {},
   "outputs": [
    {
     "data": {
      "text/plain": [
       "illegal parking               146122\n",
       "illegal tree damage             3083\n",
       "illegal animal kept as pet       260\n",
       "illegal fireworks                245\n",
       "illegal animal sold               59\n",
       "Name: complaint_type, dtype: int64"
      ]
     },
     "execution_count": 43,
     "metadata": {},
     "output_type": "execute_result"
    }
   ],
   "source": [
    "df[df['complaint_type'].str.contains('illegal')]['complaint_type'].value_counts()"
   ]
  },
  {
   "cell_type": "code",
   "execution_count": 44,
   "metadata": {},
   "outputs": [
    {
     "data": {
      "text/plain": [
       "noise - residential         230152\n",
       "noise - street/sidewalk      73085\n",
       "noise                        60171\n",
       "noise - commercial           47394\n",
       "noise - vehicle              29409\n",
       "noise - park                  4674\n",
       "noise - helicopter            1063\n",
       "noise - house of worship       906\n",
       "collection truck noise         236\n",
       "Name: complaint_type, dtype: int64"
      ]
     },
     "execution_count": 44,
     "metadata": {},
     "output_type": "execute_result"
    }
   ],
   "source": [
    "df[df['complaint_type'].str.contains('noise')]['complaint_type'].value_counts()"
   ]
  },
  {
   "cell_type": "code",
   "execution_count": 45,
   "metadata": {},
   "outputs": [
    {
     "data": {
      "text/plain": [
       "heat/hot water        213521\n",
       "water system           65096\n",
       "water leak             32181\n",
       "water conservation      2967\n",
       "standing water          2671\n",
       "water quality           1527\n",
       "drinking water           120\n",
       "bottled water             11\n",
       "Name: complaint_type, dtype: int64"
      ]
     },
     "execution_count": 45,
     "metadata": {},
     "output_type": "execute_result"
    }
   ],
   "source": [
    "df[df['complaint_type'].str.contains('water')]['complaint_type'].value_counts()"
   ]
  },
  {
   "cell_type": "markdown",
   "metadata": {},
   "source": [
    "### Ten Most Common Overall Complaint Types\n",
    "---"
   ]
  },
  {
   "cell_type": "code",
   "execution_count": 46,
   "metadata": {},
   "outputs": [],
   "source": [
    "df_c = df[['complaint_type', 'agency']].groupby(by=['complaint_type']) \\\n",
    "                                       .count() \\\n",
    "                                       .sort_values(by=['agency'], ascending=False)\n",
    "df_c.rename(columns={'agency':'count'}, inplace=True)"
   ]
  },
  {
   "cell_type": "code",
   "execution_count": 47,
   "metadata": {},
   "outputs": [
    {
     "data": {
      "text/html": [
       "<div>\n",
       "<style scoped>\n",
       "    .dataframe tbody tr th:only-of-type {\n",
       "        vertical-align: middle;\n",
       "    }\n",
       "\n",
       "    .dataframe tbody tr th {\n",
       "        vertical-align: top;\n",
       "    }\n",
       "\n",
       "    .dataframe thead th {\n",
       "        text-align: right;\n",
       "    }\n",
       "</style>\n",
       "<table border=\"1\" class=\"dataframe\">\n",
       "  <thead>\n",
       "    <tr style=\"text-align: right;\">\n",
       "      <th></th>\n",
       "      <th>count</th>\n",
       "    </tr>\n",
       "    <tr>\n",
       "      <th>complaint_type</th>\n",
       "      <th></th>\n",
       "    </tr>\n",
       "  </thead>\n",
       "  <tbody>\n",
       "    <tr>\n",
       "      <th>noise - residential</th>\n",
       "      <td>230152</td>\n",
       "    </tr>\n",
       "    <tr>\n",
       "      <th>heat/hot water</th>\n",
       "      <td>213521</td>\n",
       "    </tr>\n",
       "    <tr>\n",
       "      <th>illegal parking</th>\n",
       "      <td>146122</td>\n",
       "    </tr>\n",
       "    <tr>\n",
       "      <th>blocked driveway</th>\n",
       "      <td>136097</td>\n",
       "    </tr>\n",
       "    <tr>\n",
       "      <th>street condition</th>\n",
       "      <td>93265</td>\n",
       "    </tr>\n",
       "  </tbody>\n",
       "</table>\n",
       "</div>"
      ],
      "text/plain": [
       "                      count\n",
       "complaint_type             \n",
       "noise - residential  230152\n",
       "heat/hot water       213521\n",
       "illegal parking      146122\n",
       "blocked driveway     136097\n",
       "street condition      93265"
      ]
     },
     "execution_count": 47,
     "metadata": {},
     "output_type": "execute_result"
    }
   ],
   "source": [
    "df_c.head()"
   ]
  },
  {
   "cell_type": "code",
   "execution_count": 48,
   "metadata": {},
   "outputs": [
    {
     "name": "stdout",
     "output_type": "stream",
     "text": [
      "• noise - residential\n",
      "• heat/hot water\n",
      "• illegal parking\n",
      "• blocked driveway\n",
      "• street condition\n",
      "• street light condition\n",
      "• unsanitary condition\n",
      "• noise - street/sidewalk\n",
      "• water system\n",
      "• noise\n"
     ]
    }
   ],
   "source": [
    "common_complaints = df_c.head(10).index\n",
    "for complaint in common_complaints:\n",
    "    print('•', complaint)"
   ]
  },
  {
   "cell_type": "code",
   "execution_count": 49,
   "metadata": {},
   "outputs": [
    {
     "data": {
      "image/png": "[encoded data removed]",
      "text/plain": [
       "<Figure size 720x504 with 1 Axes>"
      ]
     },
     "metadata": {
      "image/png": {
       "height": 448,
       "width": 732
      }
     },
     "output_type": "display_data"
    }
   ],
   "source": [
    "data = df[df['complaint_type'].isin(common_complaints)]\n",
    "\n",
    "plt.figure(figsize = (10,7))\n",
    "\n",
    "sns.countplot(y=data['complaint_type'],\n",
    "              order=data['complaint_type'].value_counts().index,\n",
    "              palette='GnBu_d')\n",
    "\n",
    "plt.xlabel('Frequency', fontsize=16)\n",
    "plt.ylabel('Complaint Type', fontsize=16)\n",
    "plt.xticks(fontsize=14)\n",
    "plt.yticks(fontsize=14)\n",
    "plt.title('Distribution of 10 Most Common Complaint Types', fontsize=18);"
   ]
  },
  {
   "cell_type": "markdown",
   "metadata": {},
   "source": [
    "### Consider only the 10 most common overall complaint types.  For the 10 most populous zip codes, how many of each of those 10 types were there in 2017?\n",
    "---"
   ]
  },
  {
   "cell_type": "code",
   "execution_count": 50,
   "metadata": {},
   "outputs": [
    {
     "data": {
      "text/html": [
       "<div>\n",
       "<style scoped>\n",
       "    .dataframe tbody tr th:only-of-type {\n",
       "        vertical-align: middle;\n",
       "    }\n",
       "\n",
       "    .dataframe tbody tr th {\n",
       "        vertical-align: top;\n",
       "    }\n",
       "\n",
       "    .dataframe thead th {\n",
       "        text-align: right;\n",
       "    }\n",
       "</style>\n",
       "<table border=\"1\" class=\"dataframe\">\n",
       "  <thead>\n",
       "    <tr style=\"text-align: right;\">\n",
       "      <th></th>\n",
       "      <th>agency</th>\n",
       "      <th>agency_name</th>\n",
       "      <th>complaint_type</th>\n",
       "      <th>descriptor</th>\n",
       "      <th>location_type</th>\n",
       "      <th>zip</th>\n",
       "      <th>incident_address</th>\n",
       "      <th>street_name</th>\n",
       "      <th>cross_street_1</th>\n",
       "      <th>cross_street_2</th>\n",
       "      <th>intersection_street_1</th>\n",
       "      <th>intersection_street_2</th>\n",
       "      <th>address_type</th>\n",
       "      <th>city</th>\n",
       "      <th>facility_type</th>\n",
       "      <th>status</th>\n",
       "      <th>due_date</th>\n",
       "      <th>resolution_action_updated_date</th>\n",
       "      <th>community_board</th>\n",
       "      <th>bbl</th>\n",
       "      <th>borough</th>\n",
       "      <th>x_coordinate_(state_plane)</th>\n",
       "      <th>y_coordinate_(state_plane)</th>\n",
       "      <th>park_facility_name</th>\n",
       "      <th>park_borough</th>\n",
       "      <th>location</th>\n",
       "      <th>population</th>\n",
       "    </tr>\n",
       "  </thead>\n",
       "  <tbody>\n",
       "    <tr>\n",
       "      <th>0</th>\n",
       "      <td>DSNY</td>\n",
       "      <td>Lot Cleaning</td>\n",
       "      <td>vacant lot</td>\n",
       "      <td>8 Request to Clean Vacant Lot</td>\n",
       "      <td>Lot</td>\n",
       "      <td>11238</td>\n",
       "      <td>NaN</td>\n",
       "      <td>NaN</td>\n",
       "      <td>NaN</td>\n",
       "      <td>NaN</td>\n",
       "      <td>PROSPECT PLACE</td>\n",
       "      <td>WASHINGTON AVENUE</td>\n",
       "      <td>INTERSECTION</td>\n",
       "      <td>BROOKLYN</td>\n",
       "      <td>NaN</td>\n",
       "      <td>Closed</td>\n",
       "      <td>NaN</td>\n",
       "      <td>04/12/2017 12:00:00 PM</td>\n",
       "      <td>08 BROOKLYN</td>\n",
       "      <td>NaN</td>\n",
       "      <td>brooklyn</td>\n",
       "      <td>994366.0</td>\n",
       "      <td>185763.0</td>\n",
       "      <td>Unspecified</td>\n",
       "      <td>BROOKLYN</td>\n",
       "      <td>40.67654750057022,-73.96352995988079</td>\n",
       "      <td>49262.0</td>\n",
       "    </tr>\n",
       "    <tr>\n",
       "      <th>1</th>\n",
       "      <td>DSNY</td>\n",
       "      <td>Lot Cleaning</td>\n",
       "      <td>vacant lot</td>\n",
       "      <td>8 Request to Clean Vacant Lot</td>\n",
       "      <td>Lot</td>\n",
       "      <td>11211</td>\n",
       "      <td>NaN</td>\n",
       "      <td>NaN</td>\n",
       "      <td>NaN</td>\n",
       "      <td>NaN</td>\n",
       "      <td>NORTH 8 STREET</td>\n",
       "      <td>DRIGGS AVENUE</td>\n",
       "      <td>INTERSECTION</td>\n",
       "      <td>BROOKLYN</td>\n",
       "      <td>NaN</td>\n",
       "      <td>Closed</td>\n",
       "      <td>NaN</td>\n",
       "      <td>02/02/2017 12:00:00 PM</td>\n",
       "      <td>01 BROOKLYN</td>\n",
       "      <td>NaN</td>\n",
       "      <td>brooklyn</td>\n",
       "      <td>996490.0</td>\n",
       "      <td>200716.0</td>\n",
       "      <td>Unspecified</td>\n",
       "      <td>BROOKLYN</td>\n",
       "      <td>40.71758731876742,-73.95584537725969</td>\n",
       "      <td>90117.0</td>\n",
       "    </tr>\n",
       "    <tr>\n",
       "      <th>2</th>\n",
       "      <td>DSNY</td>\n",
       "      <td>Lot Cleaning</td>\n",
       "      <td>vacant lot</td>\n",
       "      <td>8 Request to Clean Vacant Lot</td>\n",
       "      <td>Lot</td>\n",
       "      <td>11211</td>\n",
       "      <td>156 HOPE STREET</td>\n",
       "      <td>HOPE STREET</td>\n",
       "      <td>KEAP STREET</td>\n",
       "      <td>BEND</td>\n",
       "      <td>NaN</td>\n",
       "      <td>NaN</td>\n",
       "      <td>ADDRESS</td>\n",
       "      <td>BROOKLYN</td>\n",
       "      <td>NaN</td>\n",
       "      <td>Closed</td>\n",
       "      <td>NaN</td>\n",
       "      <td>03/30/2017 12:00:00 PM</td>\n",
       "      <td>01 BROOKLYN</td>\n",
       "      <td>3.023870e+09</td>\n",
       "      <td>brooklyn</td>\n",
       "      <td>997496.0</td>\n",
       "      <td>198631.0</td>\n",
       "      <td>Unspecified</td>\n",
       "      <td>BROOKLYN</td>\n",
       "      <td>40.71186304379185,-73.9522204322487</td>\n",
       "      <td>90117.0</td>\n",
       "    </tr>\n",
       "    <tr>\n",
       "      <th>3</th>\n",
       "      <td>DSNY</td>\n",
       "      <td>Lot Cleaning</td>\n",
       "      <td>vacant lot</td>\n",
       "      <td>8 Request to Clean Vacant Lot</td>\n",
       "      <td>Lot</td>\n",
       "      <td>10305</td>\n",
       "      <td>36 OLYMPIA BOULEVARD</td>\n",
       "      <td>OLYMPIA BOULEVARD</td>\n",
       "      <td>PIAVE AVENUE</td>\n",
       "      <td>BALFOUR STREET</td>\n",
       "      <td>NaN</td>\n",
       "      <td>NaN</td>\n",
       "      <td>ADDRESS</td>\n",
       "      <td>STATEN ISLAND</td>\n",
       "      <td>NaN</td>\n",
       "      <td>Closed</td>\n",
       "      <td>NaN</td>\n",
       "      <td>04/19/2017 12:00:00 PM</td>\n",
       "      <td>02 STATEN ISLAND</td>\n",
       "      <td>5.034010e+09</td>\n",
       "      <td>staten island</td>\n",
       "      <td>964947.0</td>\n",
       "      <td>155255.0</td>\n",
       "      <td>Unspecified</td>\n",
       "      <td>STATEN ISLAND</td>\n",
       "      <td>40.59279428994732,-74.0695035852305</td>\n",
       "      <td>41749.0</td>\n",
       "    </tr>\n",
       "    <tr>\n",
       "      <th>4</th>\n",
       "      <td>DSNY</td>\n",
       "      <td>Lot Cleaning</td>\n",
       "      <td>vacant lot</td>\n",
       "      <td>8 Request to Clean Vacant Lot</td>\n",
       "      <td>Lot</td>\n",
       "      <td>11208</td>\n",
       "      <td>115 SHERIDAN AVENUE</td>\n",
       "      <td>SHERIDAN AVENUE</td>\n",
       "      <td>MC KINLEY AVENUE</td>\n",
       "      <td>LIBERTY AVENUE</td>\n",
       "      <td>NaN</td>\n",
       "      <td>NaN</td>\n",
       "      <td>ADDRESS</td>\n",
       "      <td>BROOKLYN</td>\n",
       "      <td>NaN</td>\n",
       "      <td>Closed</td>\n",
       "      <td>NaN</td>\n",
       "      <td>03/10/2017 12:00:00 PM</td>\n",
       "      <td>05 BROOKLYN</td>\n",
       "      <td>3.041820e+09</td>\n",
       "      <td>brooklyn</td>\n",
       "      <td>1021035.0</td>\n",
       "      <td>186952.0</td>\n",
       "      <td>Unspecified</td>\n",
       "      <td>BROOKLYN</td>\n",
       "      <td>40.67974038452862,-73.86737691477967</td>\n",
       "      <td>94469.0</td>\n",
       "    </tr>\n",
       "  </tbody>\n",
       "</table>\n",
       "</div>"
      ],
      "text/plain": [
       "  agency   agency_name complaint_type                     descriptor  \\\n",
       "0   DSNY  Lot Cleaning     vacant lot  8 Request to Clean Vacant Lot   \n",
       "1   DSNY  Lot Cleaning     vacant lot  8 Request to Clean Vacant Lot   \n",
       "2   DSNY  Lot Cleaning     vacant lot  8 Request to Clean Vacant Lot   \n",
       "3   DSNY  Lot Cleaning     vacant lot  8 Request to Clean Vacant Lot   \n",
       "4   DSNY  Lot Cleaning     vacant lot  8 Request to Clean Vacant Lot   \n",
       "\n",
       "  location_type    zip      incident_address        street_name  \\\n",
       "0           Lot  11238                   NaN                NaN   \n",
       "1           Lot  11211                   NaN                NaN   \n",
       "2           Lot  11211       156 HOPE STREET        HOPE STREET   \n",
       "3           Lot  10305  36 OLYMPIA BOULEVARD  OLYMPIA BOULEVARD   \n",
       "4           Lot  11208   115 SHERIDAN AVENUE    SHERIDAN AVENUE   \n",
       "\n",
       "     cross_street_1  cross_street_2 intersection_street_1  \\\n",
       "0               NaN             NaN        PROSPECT PLACE   \n",
       "1               NaN             NaN        NORTH 8 STREET   \n",
       "2       KEAP STREET            BEND                   NaN   \n",
       "3      PIAVE AVENUE  BALFOUR STREET                   NaN   \n",
       "4  MC KINLEY AVENUE  LIBERTY AVENUE                   NaN   \n",
       "\n",
       "  intersection_street_2  address_type           city facility_type  status  \\\n",
       "0     WASHINGTON AVENUE  INTERSECTION       BROOKLYN           NaN  Closed   \n",
       "1         DRIGGS AVENUE  INTERSECTION       BROOKLYN           NaN  Closed   \n",
       "2                   NaN       ADDRESS       BROOKLYN           NaN  Closed   \n",
       "3                   NaN       ADDRESS  STATEN ISLAND           NaN  Closed   \n",
       "4                   NaN       ADDRESS       BROOKLYN           NaN  Closed   \n",
       "\n",
       "  due_date resolution_action_updated_date   community_board           bbl  \\\n",
       "0      NaN         04/12/2017 12:00:00 PM       08 BROOKLYN           NaN   \n",
       "1      NaN         02/02/2017 12:00:00 PM       01 BROOKLYN           NaN   \n",
       "2      NaN         03/30/2017 12:00:00 PM       01 BROOKLYN  3.023870e+09   \n",
       "3      NaN         04/19/2017 12:00:00 PM  02 STATEN ISLAND  5.034010e+09   \n",
       "4      NaN         03/10/2017 12:00:00 PM       05 BROOKLYN  3.041820e+09   \n",
       "\n",
       "         borough  x_coordinate_(state_plane)  y_coordinate_(state_plane)  \\\n",
       "0       brooklyn                    994366.0                    185763.0   \n",
       "1       brooklyn                    996490.0                    200716.0   \n",
       "2       brooklyn                    997496.0                    198631.0   \n",
       "3  staten island                    964947.0                    155255.0   \n",
       "4       brooklyn                   1021035.0                    186952.0   \n",
       "\n",
       "  park_facility_name   park_borough                              location  \\\n",
       "0        Unspecified       BROOKLYN  40.67654750057022,-73.96352995988079   \n",
       "1        Unspecified       BROOKLYN  40.71758731876742,-73.95584537725969   \n",
       "2        Unspecified       BROOKLYN   40.71186304379185,-73.9522204322487   \n",
       "3        Unspecified  STATEN ISLAND   40.59279428994732,-74.0695035852305   \n",
       "4        Unspecified       BROOKLYN  40.67974038452862,-73.86737691477967   \n",
       "\n",
       "   population  \n",
       "0     49262.0  \n",
       "1     90117.0  \n",
       "2     90117.0  \n",
       "3     41749.0  \n",
       "4     94469.0  "
      ]
     },
     "execution_count": 50,
     "metadata": {},
     "output_type": "execute_result"
    }
   ],
   "source": [
    "df.head()"
   ]
  },
  {
   "cell_type": "code",
   "execution_count": 51,
   "metadata": {},
   "outputs": [],
   "source": [
    "zips = df[['zip', 'population']].groupby(['zip', 'population']) \\\n",
    "                                .count() \\\n",
    "                                .sort_values(by='population', ascending=False) \\\n",
    "                                .head(10) \\\n",
    "                                .reset_index()\n",
    "zips = pd.Series.tolist(zips['zip'])"
   ]
  },
  {
   "cell_type": "code",
   "execution_count": 52,
   "metadata": {},
   "outputs": [
    {
     "data": {
      "text/plain": [
       "[11368, 11226, 11373, 11220, 11385, 10467, 10025, 11208, 11236, 11207]"
      ]
     },
     "execution_count": 52,
     "metadata": {},
     "output_type": "execute_result"
    }
   ],
   "source": [
    "zips"
   ]
  },
  {
   "cell_type": "code",
   "execution_count": 53,
   "metadata": {},
   "outputs": [
    {
     "data": {
      "text/plain": [
       "Index(['noise - residential', 'heat/hot water', 'illegal parking',\n",
       "       'blocked driveway', 'street condition', 'street light condition',\n",
       "       'unsanitary condition', 'noise - street/sidewalk', 'water system',\n",
       "       'noise'],\n",
       "      dtype='object', name='complaint_type')"
      ]
     },
     "execution_count": 53,
     "metadata": {},
     "output_type": "execute_result"
    }
   ],
   "source": [
    "common_complaints"
   ]
  },
  {
   "cell_type": "code",
   "execution_count": 54,
   "metadata": {},
   "outputs": [
    {
     "name": "stdout",
     "output_type": "stream",
     "text": [
      "zip: ['queens']\n",
      "zip: ['brooklyn']\n",
      "zip: ['queens']\n",
      "zip: ['brooklyn']\n",
      "zip: ['queens']\n",
      "zip: ['bronx']\n",
      "zip: ['manhattan']\n",
      "zip: ['brooklyn']\n",
      "zip: ['brooklyn']\n",
      "zip: ['brooklyn']\n"
     ]
    }
   ],
   "source": [
    "borough_dict = {}\n",
    "for zip_code in zips:\n",
    "    print('zip: {}'.format(df[df['zip'] == zip_code]['borough'].unique()))"
   ]
  },
  {
   "cell_type": "code",
   "execution_count": 55,
   "metadata": {},
   "outputs": [],
   "source": [
    "# data = df[(df['complaint_type'].isin(common_complaints)) & (df['zip'].isin(zips))]\n",
    "\n",
    "# plt.figure(figsize = (20,20))\n",
    "\n",
    "# for i, zip_code in enumerate(zips, start=1):\n",
    "#     plt.subplot(5, 2, i), sns.countplot(y=data[data['zip'] == zip_code]['complaint_type'])\n",
    "#     plt.xlabel('Frequency', fontsize=16)\n",
    "#     plt.ylabel('Complaint Type', fontsize=16)\n",
    "#     plt.xticks(np.arange(1000, 11000, 1000), fontsize=14, rotation=35)\n",
    "#     plt.yticks(fontsize=14)\n",
    "#     # add borough\n",
    "#     plt.title('Distribution of 10 Most Common Complaint Types for Zip ' + str(zip_code) + ' , ' + str(), fontsize=18)\n",
    "#     plt.tight_layout();"
   ]
  },
  {
   "cell_type": "markdown",
   "metadata": {},
   "source": [
    "###    Considering all complaint types. Which boroughs are the biggest \"complainers\" relative to the size of the population in 2017? Meaning, calculate a complaint-index that adjusts for population of the borough.\n",
    "---"
   ]
  },
  {
   "cell_type": "code",
   "execution_count": 56,
   "metadata": {},
   "outputs": [
    {
     "data": {
      "text/html": [
       "<div>\n",
       "<style scoped>\n",
       "    .dataframe tbody tr th:only-of-type {\n",
       "        vertical-align: middle;\n",
       "    }\n",
       "\n",
       "    .dataframe tbody tr th {\n",
       "        vertical-align: top;\n",
       "    }\n",
       "\n",
       "    .dataframe thead th {\n",
       "        text-align: right;\n",
       "    }\n",
       "</style>\n",
       "<table border=\"1\" class=\"dataframe\">\n",
       "  <thead>\n",
       "    <tr style=\"text-align: right;\">\n",
       "      <th></th>\n",
       "      <th>agency</th>\n",
       "      <th>agency_name</th>\n",
       "      <th>complaint_type</th>\n",
       "      <th>descriptor</th>\n",
       "      <th>location_type</th>\n",
       "      <th>zip</th>\n",
       "      <th>incident_address</th>\n",
       "      <th>street_name</th>\n",
       "      <th>cross_street_1</th>\n",
       "      <th>cross_street_2</th>\n",
       "      <th>intersection_street_1</th>\n",
       "      <th>intersection_street_2</th>\n",
       "      <th>address_type</th>\n",
       "      <th>city</th>\n",
       "      <th>facility_type</th>\n",
       "      <th>status</th>\n",
       "      <th>due_date</th>\n",
       "      <th>resolution_action_updated_date</th>\n",
       "      <th>community_board</th>\n",
       "      <th>bbl</th>\n",
       "      <th>borough</th>\n",
       "      <th>x_coordinate_(state_plane)</th>\n",
       "      <th>y_coordinate_(state_plane)</th>\n",
       "      <th>park_facility_name</th>\n",
       "      <th>park_borough</th>\n",
       "      <th>location</th>\n",
       "      <th>population</th>\n",
       "    </tr>\n",
       "  </thead>\n",
       "  <tbody>\n",
       "    <tr>\n",
       "      <th>0</th>\n",
       "      <td>DSNY</td>\n",
       "      <td>Lot Cleaning</td>\n",
       "      <td>vacant lot</td>\n",
       "      <td>8 Request to Clean Vacant Lot</td>\n",
       "      <td>Lot</td>\n",
       "      <td>11238</td>\n",
       "      <td>NaN</td>\n",
       "      <td>NaN</td>\n",
       "      <td>NaN</td>\n",
       "      <td>NaN</td>\n",
       "      <td>PROSPECT PLACE</td>\n",
       "      <td>WASHINGTON AVENUE</td>\n",
       "      <td>INTERSECTION</td>\n",
       "      <td>BROOKLYN</td>\n",
       "      <td>NaN</td>\n",
       "      <td>Closed</td>\n",
       "      <td>NaN</td>\n",
       "      <td>04/12/2017 12:00:00 PM</td>\n",
       "      <td>08 BROOKLYN</td>\n",
       "      <td>NaN</td>\n",
       "      <td>brooklyn</td>\n",
       "      <td>994366.0</td>\n",
       "      <td>185763.0</td>\n",
       "      <td>Unspecified</td>\n",
       "      <td>BROOKLYN</td>\n",
       "      <td>40.67654750057022,-73.96352995988079</td>\n",
       "      <td>49262.0</td>\n",
       "    </tr>\n",
       "    <tr>\n",
       "      <th>1</th>\n",
       "      <td>DSNY</td>\n",
       "      <td>Lot Cleaning</td>\n",
       "      <td>vacant lot</td>\n",
       "      <td>8 Request to Clean Vacant Lot</td>\n",
       "      <td>Lot</td>\n",
       "      <td>11211</td>\n",
       "      <td>NaN</td>\n",
       "      <td>NaN</td>\n",
       "      <td>NaN</td>\n",
       "      <td>NaN</td>\n",
       "      <td>NORTH 8 STREET</td>\n",
       "      <td>DRIGGS AVENUE</td>\n",
       "      <td>INTERSECTION</td>\n",
       "      <td>BROOKLYN</td>\n",
       "      <td>NaN</td>\n",
       "      <td>Closed</td>\n",
       "      <td>NaN</td>\n",
       "      <td>02/02/2017 12:00:00 PM</td>\n",
       "      <td>01 BROOKLYN</td>\n",
       "      <td>NaN</td>\n",
       "      <td>brooklyn</td>\n",
       "      <td>996490.0</td>\n",
       "      <td>200716.0</td>\n",
       "      <td>Unspecified</td>\n",
       "      <td>BROOKLYN</td>\n",
       "      <td>40.71758731876742,-73.95584537725969</td>\n",
       "      <td>90117.0</td>\n",
       "    </tr>\n",
       "    <tr>\n",
       "      <th>2</th>\n",
       "      <td>DSNY</td>\n",
       "      <td>Lot Cleaning</td>\n",
       "      <td>vacant lot</td>\n",
       "      <td>8 Request to Clean Vacant Lot</td>\n",
       "      <td>Lot</td>\n",
       "      <td>11211</td>\n",
       "      <td>156 HOPE STREET</td>\n",
       "      <td>HOPE STREET</td>\n",
       "      <td>KEAP STREET</td>\n",
       "      <td>BEND</td>\n",
       "      <td>NaN</td>\n",
       "      <td>NaN</td>\n",
       "      <td>ADDRESS</td>\n",
       "      <td>BROOKLYN</td>\n",
       "      <td>NaN</td>\n",
       "      <td>Closed</td>\n",
       "      <td>NaN</td>\n",
       "      <td>03/30/2017 12:00:00 PM</td>\n",
       "      <td>01 BROOKLYN</td>\n",
       "      <td>3.023870e+09</td>\n",
       "      <td>brooklyn</td>\n",
       "      <td>997496.0</td>\n",
       "      <td>198631.0</td>\n",
       "      <td>Unspecified</td>\n",
       "      <td>BROOKLYN</td>\n",
       "      <td>40.71186304379185,-73.9522204322487</td>\n",
       "      <td>90117.0</td>\n",
       "    </tr>\n",
       "    <tr>\n",
       "      <th>3</th>\n",
       "      <td>DSNY</td>\n",
       "      <td>Lot Cleaning</td>\n",
       "      <td>vacant lot</td>\n",
       "      <td>8 Request to Clean Vacant Lot</td>\n",
       "      <td>Lot</td>\n",
       "      <td>10305</td>\n",
       "      <td>36 OLYMPIA BOULEVARD</td>\n",
       "      <td>OLYMPIA BOULEVARD</td>\n",
       "      <td>PIAVE AVENUE</td>\n",
       "      <td>BALFOUR STREET</td>\n",
       "      <td>NaN</td>\n",
       "      <td>NaN</td>\n",
       "      <td>ADDRESS</td>\n",
       "      <td>STATEN ISLAND</td>\n",
       "      <td>NaN</td>\n",
       "      <td>Closed</td>\n",
       "      <td>NaN</td>\n",
       "      <td>04/19/2017 12:00:00 PM</td>\n",
       "      <td>02 STATEN ISLAND</td>\n",
       "      <td>5.034010e+09</td>\n",
       "      <td>staten island</td>\n",
       "      <td>964947.0</td>\n",
       "      <td>155255.0</td>\n",
       "      <td>Unspecified</td>\n",
       "      <td>STATEN ISLAND</td>\n",
       "      <td>40.59279428994732,-74.0695035852305</td>\n",
       "      <td>41749.0</td>\n",
       "    </tr>\n",
       "    <tr>\n",
       "      <th>4</th>\n",
       "      <td>DSNY</td>\n",
       "      <td>Lot Cleaning</td>\n",
       "      <td>vacant lot</td>\n",
       "      <td>8 Request to Clean Vacant Lot</td>\n",
       "      <td>Lot</td>\n",
       "      <td>11208</td>\n",
       "      <td>115 SHERIDAN AVENUE</td>\n",
       "      <td>SHERIDAN AVENUE</td>\n",
       "      <td>MC KINLEY AVENUE</td>\n",
       "      <td>LIBERTY AVENUE</td>\n",
       "      <td>NaN</td>\n",
       "      <td>NaN</td>\n",
       "      <td>ADDRESS</td>\n",
       "      <td>BROOKLYN</td>\n",
       "      <td>NaN</td>\n",
       "      <td>Closed</td>\n",
       "      <td>NaN</td>\n",
       "      <td>03/10/2017 12:00:00 PM</td>\n",
       "      <td>05 BROOKLYN</td>\n",
       "      <td>3.041820e+09</td>\n",
       "      <td>brooklyn</td>\n",
       "      <td>1021035.0</td>\n",
       "      <td>186952.0</td>\n",
       "      <td>Unspecified</td>\n",
       "      <td>BROOKLYN</td>\n",
       "      <td>40.67974038452862,-73.86737691477967</td>\n",
       "      <td>94469.0</td>\n",
       "    </tr>\n",
       "  </tbody>\n",
       "</table>\n",
       "</div>"
      ],
      "text/plain": [
       "  agency   agency_name complaint_type                     descriptor  \\\n",
       "0   DSNY  Lot Cleaning     vacant lot  8 Request to Clean Vacant Lot   \n",
       "1   DSNY  Lot Cleaning     vacant lot  8 Request to Clean Vacant Lot   \n",
       "2   DSNY  Lot Cleaning     vacant lot  8 Request to Clean Vacant Lot   \n",
       "3   DSNY  Lot Cleaning     vacant lot  8 Request to Clean Vacant Lot   \n",
       "4   DSNY  Lot Cleaning     vacant lot  8 Request to Clean Vacant Lot   \n",
       "\n",
       "  location_type    zip      incident_address        street_name  \\\n",
       "0           Lot  11238                   NaN                NaN   \n",
       "1           Lot  11211                   NaN                NaN   \n",
       "2           Lot  11211       156 HOPE STREET        HOPE STREET   \n",
       "3           Lot  10305  36 OLYMPIA BOULEVARD  OLYMPIA BOULEVARD   \n",
       "4           Lot  11208   115 SHERIDAN AVENUE    SHERIDAN AVENUE   \n",
       "\n",
       "     cross_street_1  cross_street_2 intersection_street_1  \\\n",
       "0               NaN             NaN        PROSPECT PLACE   \n",
       "1               NaN             NaN        NORTH 8 STREET   \n",
       "2       KEAP STREET            BEND                   NaN   \n",
       "3      PIAVE AVENUE  BALFOUR STREET                   NaN   \n",
       "4  MC KINLEY AVENUE  LIBERTY AVENUE                   NaN   \n",
       "\n",
       "  intersection_street_2  address_type           city facility_type  status  \\\n",
       "0     WASHINGTON AVENUE  INTERSECTION       BROOKLYN           NaN  Closed   \n",
       "1         DRIGGS AVENUE  INTERSECTION       BROOKLYN           NaN  Closed   \n",
       "2                   NaN       ADDRESS       BROOKLYN           NaN  Closed   \n",
       "3                   NaN       ADDRESS  STATEN ISLAND           NaN  Closed   \n",
       "4                   NaN       ADDRESS       BROOKLYN           NaN  Closed   \n",
       "\n",
       "  due_date resolution_action_updated_date   community_board           bbl  \\\n",
       "0      NaN         04/12/2017 12:00:00 PM       08 BROOKLYN           NaN   \n",
       "1      NaN         02/02/2017 12:00:00 PM       01 BROOKLYN           NaN   \n",
       "2      NaN         03/30/2017 12:00:00 PM       01 BROOKLYN  3.023870e+09   \n",
       "3      NaN         04/19/2017 12:00:00 PM  02 STATEN ISLAND  5.034010e+09   \n",
       "4      NaN         03/10/2017 12:00:00 PM       05 BROOKLYN  3.041820e+09   \n",
       "\n",
       "         borough  x_coordinate_(state_plane)  y_coordinate_(state_plane)  \\\n",
       "0       brooklyn                    994366.0                    185763.0   \n",
       "1       brooklyn                    996490.0                    200716.0   \n",
       "2       brooklyn                    997496.0                    198631.0   \n",
       "3  staten island                    964947.0                    155255.0   \n",
       "4       brooklyn                   1021035.0                    186952.0   \n",
       "\n",
       "  park_facility_name   park_borough                              location  \\\n",
       "0        Unspecified       BROOKLYN  40.67654750057022,-73.96352995988079   \n",
       "1        Unspecified       BROOKLYN  40.71758731876742,-73.95584537725969   \n",
       "2        Unspecified       BROOKLYN   40.71186304379185,-73.9522204322487   \n",
       "3        Unspecified  STATEN ISLAND   40.59279428994732,-74.0695035852305   \n",
       "4        Unspecified       BROOKLYN  40.67974038452862,-73.86737691477967   \n",
       "\n",
       "   population  \n",
       "0     49262.0  \n",
       "1     90117.0  \n",
       "2     90117.0  \n",
       "3     41749.0  \n",
       "4     94469.0  "
      ]
     },
     "execution_count": 56,
     "metadata": {},
     "output_type": "execute_result"
    }
   ],
   "source": [
    "df.head()"
   ]
  },
  {
   "cell_type": "code",
   "execution_count": null,
   "metadata": {},
   "outputs": [],
   "source": []
  }
 ],
 "metadata": {
  "kernelspec": {
   "display_name": "Python 3",
   "language": "python",
   "name": "python3"
  },
  "language_info": {
   "codemirror_mode": {
    "name": "ipython",
    "version": 3
   },
   "file_extension": ".py",
   "mimetype": "text/x-python",
   "name": "python",
   "nbconvert_exporter": "python",
   "pygments_lexer": "ipython3",
   "version": "3.6.5"
  }
 },
 "nbformat": 4,
 "nbformat_minor": 2
}
